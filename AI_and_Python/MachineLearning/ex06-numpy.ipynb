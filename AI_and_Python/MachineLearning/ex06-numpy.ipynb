{
 "cells": [
  {
   "cell_type": "markdown",
   "metadata": {},
   "source": [
    "## Exercise 6 - Numpy"
   ]
  },
  {
   "cell_type": "markdown",
   "metadata": {},
   "source": [
    "1 Generate two NumPy arrays so that first array has integers from 10 to 40 (inclusive). Second array should have integers from 220 to 250 (inclusive). Sum these arrays and present the result array."
   ]
  },
  {
   "cell_type": "code",
   "execution_count": 1,
   "metadata": {},
   "outputs": [
    {
     "data": {
      "text/plain": [
       "array([10, 11, 12, 13, 14, 15, 16, 17, 18, 19, 20, 21, 22, 23, 24, 25, 26,\n",
       "       27, 28, 29, 30, 31, 32, 33, 34, 35, 36, 37, 38, 39, 40])"
      ]
     },
     "execution_count": 1,
     "metadata": {},
     "output_type": "execute_result"
    }
   ],
   "source": [
    "import numpy as np\n",
    "arr1 = np.arange(start=10, stop=41, step=1)\n",
    "arr1"
   ]
  },
  {
   "cell_type": "code",
   "execution_count": 2,
   "metadata": {},
   "outputs": [
    {
     "data": {
      "text/plain": [
       "array([220, 221, 222, 223, 224, 225, 226, 227, 228, 229, 230, 231, 232,\n",
       "       233, 234, 235, 236, 237, 238, 239, 240, 241, 242, 243, 244, 245,\n",
       "       246, 247, 248, 249, 250])"
      ]
     },
     "execution_count": 2,
     "metadata": {},
     "output_type": "execute_result"
    }
   ],
   "source": [
    "arr2 = np.arange(start=220, stop=251, step=1)\n",
    "arr2"
   ]
  },
  {
   "cell_type": "code",
   "execution_count": 3,
   "metadata": {},
   "outputs": [
    {
     "data": {
      "text/plain": [
       "array([230, 232, 234, 236, 238, 240, 242, 244, 246, 248, 250, 252, 254,\n",
       "       256, 258, 260, 262, 264, 266, 268, 270, 272, 274, 276, 278, 280,\n",
       "       282, 284, 286, 288, 290])"
      ]
     },
     "execution_count": 3,
     "metadata": {},
     "output_type": "execute_result"
    }
   ],
   "source": [
    "arr3 = arr1 + arr2\n",
    "arr3"
   ]
  },
  {
   "cell_type": "markdown",
   "metadata": {},
   "source": [
    "2 Generate two-dimensional array with 10 rows and 7 columns containing integers starting from 100."
   ]
  },
  {
   "cell_type": "code",
   "execution_count": 9,
   "metadata": {},
   "outputs": [
    {
     "data": {
      "text/plain": [
       "array([[100, 101, 102, 103, 104, 105, 106],\n",
       "       [107, 108, 109, 110, 111, 112, 113],\n",
       "       [114, 115, 116, 117, 118, 119, 120],\n",
       "       [121, 122, 123, 124, 125, 126, 127],\n",
       "       [128, 129, 130, 131, 132, 133, 134],\n",
       "       [135, 136, 137, 138, 139, 140, 141],\n",
       "       [142, 143, 144, 145, 146, 147, 148],\n",
       "       [149, 150, 151, 152, 153, 154, 155],\n",
       "       [156, 157, 158, 159, 160, 161, 162],\n",
       "       [163, 164, 165, 166, 167, 168, 169]])"
      ]
     },
     "execution_count": 9,
     "metadata": {},
     "output_type": "execute_result"
    }
   ],
   "source": [
    "a4 = np.arange(start=100, stop=170).reshape(10,7)\n",
    "a4"
   ]
  },
  {
   "cell_type": "markdown",
   "metadata": {},
   "source": [
    "3 Generate two one-dimensional arrays having integers between 1-50. First array should have even and second array should have odd numbers. Finally multiply each element from corresponding index positions from these two arrays for the result array. For example [(1 x 2),(3 x 4),(5 x 6),(7 x 8)...]."
   ]
  },
  {
   "cell_type": "code",
   "execution_count": 12,
   "metadata": {},
   "outputs": [
    {
     "data": {
      "text/plain": [
       "array([ 1,  3,  5,  7,  9, 11, 13, 15, 17, 19, 21, 23, 25, 27, 29, 31, 33,\n",
       "       35, 37, 39, 41, 43, 45, 47, 49])"
      ]
     },
     "execution_count": 12,
     "metadata": {},
     "output_type": "execute_result"
    }
   ],
   "source": [
    "odd = np.arange(start=1,stop=51, step=2)\n",
    "odd"
   ]
  },
  {
   "cell_type": "code",
   "execution_count": 14,
   "metadata": {},
   "outputs": [
    {
     "data": {
      "text/plain": [
       "array([ 2,  4,  6,  8, 10, 12, 14, 16, 18, 20, 22, 24, 26, 28, 30, 32, 34,\n",
       "       36, 38, 40, 42, 44, 46, 48, 50])"
      ]
     },
     "execution_count": 14,
     "metadata": {},
     "output_type": "execute_result"
    }
   ],
   "source": [
    "even = np.arange(start=2,stop=51, step=2)\n",
    "even\n"
   ]
  },
  {
   "cell_type": "code",
   "execution_count": 15,
   "metadata": {},
   "outputs": [
    {
     "data": {
      "text/plain": [
       "array([   2,   12,   30,   56,   90,  132,  182,  240,  306,  380,  462,\n",
       "        552,  650,  756,  870,  992, 1122, 1260, 1406, 1560, 1722, 1892,\n",
       "       2070, 2256, 2450])"
      ]
     },
     "execution_count": 15,
     "metadata": {},
     "output_type": "execute_result"
    }
   ],
   "source": [
    "result = np.multiply(odd, even)\n",
    "result"
   ]
  },
  {
   "cell_type": "markdown",
   "metadata": {},
   "source": [
    "4 Generate two-dimensional array (40 rows, 5 columns) containing random integers between 1 and 1000. Filter the result array so that only numbers divisable with numbers 2 and 5 are presented (number must be divisable with both)."
   ]
  },
  {
   "cell_type": "code",
   "execution_count": 24,
   "metadata": {
    "scrolled": true
   },
   "outputs": [
    {
     "data": {
      "text/plain": [
       "array([[ 268,  946,  547,  925,  837],\n",
       "       [ 757,   69,  259,   42,  231],\n",
       "       [ 670,  784,  594,  843,  609],\n",
       "       [ 379,  736, 1000,  654,  260],\n",
       "       [ 479,  604,  336,   59,   74],\n",
       "       [ 451,  752,  719,  131,  450],\n",
       "       [ 856,  786,  744,  958,    8],\n",
       "       [ 858,  495,  978,  157,  483],\n",
       "       [ 273,  281,   45,  726,   26],\n",
       "       [ 753,  821,  120,  515,  409],\n",
       "       [ 965,   58,  419,  456,  813],\n",
       "       [ 210,   58,  715,  588,  316],\n",
       "       [ 921,  190,  364,  566,  576],\n",
       "       [ 188,  843,  819,  392,  361],\n",
       "       [  39,  544,   96,  383,  663],\n",
       "       [ 329,  841,  999,   60,  449],\n",
       "       [ 598,  330,  484,  134,  758],\n",
       "       [ 395,  244,  273,  659,  450],\n",
       "       [ 179,   32,  435,  446,  528],\n",
       "       [ 343,  238,  739,  659,  727],\n",
       "       [ 286,  264,  532,  559,  128],\n",
       "       [ 930,  564,  297,  962,  222],\n",
       "       [  19,  920,  319,  960,  257],\n",
       "       [ 255,  790,  513,  420,    3],\n",
       "       [ 430,  369,  407,  563,  427],\n",
       "       [ 220,  292,  322,  109,  141],\n",
       "       [ 451,  273,  708,  203,  336],\n",
       "       [ 127,  477,  398,  587,  944],\n",
       "       [ 922,  219,  805,  328,  168],\n",
       "       [ 139,  402,    3,  641,  798],\n",
       "       [ 428,  651,  606,  309,  761],\n",
       "       [ 349,  927,  404,  985,  646],\n",
       "       [ 383,  103,  160,  181,  823],\n",
       "       [ 275,  298,  510,  765,  265],\n",
       "       [ 417,  942,  761,  184,  281],\n",
       "       [ 971,  429,  593,  515,  168],\n",
       "       [ 537,    6,   74,  609,  164],\n",
       "       [ 802,  408,  884,  390,  263],\n",
       "       [ 663,  404,    6,  245,  313],\n",
       "       [ 650,  692,  911,   98,  498]])"
      ]
     },
     "execution_count": 24,
     "metadata": {},
     "output_type": "execute_result"
    }
   ],
   "source": [
    "randoms = np.random.randint(1,1001, 200).reshape(40,5)\n",
    "randoms"
   ]
  },
  {
   "cell_type": "code",
   "execution_count": 37,
   "metadata": {},
   "outputs": [
    {
     "data": {
      "text/plain": [
       "array([ 670, 1000,  260,  450,  120,  210,  190,   60,  330,  450,  930,\n",
       "        920,  960,  790,  420,  430,  220,  160,  510,  390,  650])"
      ]
     },
     "execution_count": 37,
     "metadata": {},
     "output_type": "execute_result"
    }
   ],
   "source": [
    "mask = (randoms % 2 == 0) & (randoms % 5 == 0)\n",
    "divisableby2and5 = randoms[mask]\n",
    "divisableby2and5"
   ]
  }
 ],
 "metadata": {
  "kernelspec": {
   "display_name": "Python 3 (ipykernel)",
   "language": "python",
   "name": "python3"
  },
  "language_info": {
   "codemirror_mode": {
    "name": "ipython",
    "version": 3
   },
   "file_extension": ".py",
   "mimetype": "text/x-python",
   "name": "python",
   "nbconvert_exporter": "python",
   "pygments_lexer": "ipython3",
   "version": "3.9.13"
  },
  "vscode": {
   "interpreter": {
    "hash": "05cbb8e30cd2cbe161554e93617827c610928832f77224aad1765f5c87120ccf"
   }
  }
 },
 "nbformat": 4,
 "nbformat_minor": 2
}
