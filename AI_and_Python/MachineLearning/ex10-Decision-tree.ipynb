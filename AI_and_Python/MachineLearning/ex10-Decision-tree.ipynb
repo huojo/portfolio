{
 "cells": [
  {
   "cell_type": "markdown",
   "id": "e0f1f672-d06f-4fb0-92f5-855799faa55c",
   "metadata": {},
   "source": [
    "## Exercise 10 - Decision tree\n",
    "\n",
    "- Use the same dataset as in previous exercises (ex08 and ex09) (can be downloaded [here](http://student.labranet.jamk.fi/~hantt/data/voice.csv))\n",
    "- Dataset includes male and female voice samples with different features\n",
    "- In this exercise you will use supervised machine learning method called decision tree for the dataset"
   ]
  },
  {
   "cell_type": "markdown",
   "id": "0953a546-328d-4af2-914e-9d70da49a6db",
   "metadata": {},
   "source": [
    "1 Import all necessary libraries. Then load the dataset and save it to the dataframe. Filter dataframe for meanfun and IQR columns only."
   ]
  },
  {
   "cell_type": "code",
   "execution_count": 15,
   "id": "73538cbe",
   "metadata": {},
   "outputs": [
    {
     "data": {
      "text/html": [
       "<div>\n",
       "<style scoped>\n",
       "    .dataframe tbody tr th:only-of-type {\n",
       "        vertical-align: middle;\n",
       "    }\n",
       "\n",
       "    .dataframe tbody tr th {\n",
       "        vertical-align: top;\n",
       "    }\n",
       "\n",
       "    .dataframe thead th {\n",
       "        text-align: right;\n",
       "    }\n",
       "</style>\n",
       "<table border=\"1\" class=\"dataframe\">\n",
       "  <thead>\n",
       "    <tr style=\"text-align: right;\">\n",
       "      <th></th>\n",
       "      <th>meanfun</th>\n",
       "      <th>IQR</th>\n",
       "    </tr>\n",
       "  </thead>\n",
       "  <tbody>\n",
       "    <tr>\n",
       "      <th>0</th>\n",
       "      <td>0.084279</td>\n",
       "      <td>0.075122</td>\n",
       "    </tr>\n",
       "    <tr>\n",
       "      <th>1</th>\n",
       "      <td>0.107937</td>\n",
       "      <td>0.073252</td>\n",
       "    </tr>\n",
       "    <tr>\n",
       "      <th>2</th>\n",
       "      <td>0.098706</td>\n",
       "      <td>0.123207</td>\n",
       "    </tr>\n",
       "    <tr>\n",
       "      <th>3</th>\n",
       "      <td>0.088965</td>\n",
       "      <td>0.111374</td>\n",
       "    </tr>\n",
       "    <tr>\n",
       "      <th>4</th>\n",
       "      <td>0.106398</td>\n",
       "      <td>0.127325</td>\n",
       "    </tr>\n",
       "    <tr>\n",
       "      <th>...</th>\n",
       "      <td>...</td>\n",
       "      <td>...</td>\n",
       "    </tr>\n",
       "    <tr>\n",
       "      <th>3163</th>\n",
       "      <td>0.182790</td>\n",
       "      <td>0.151859</td>\n",
       "    </tr>\n",
       "    <tr>\n",
       "      <th>3164</th>\n",
       "      <td>0.188980</td>\n",
       "      <td>0.162193</td>\n",
       "    </tr>\n",
       "    <tr>\n",
       "      <th>3165</th>\n",
       "      <td>0.209918</td>\n",
       "      <td>0.190936</td>\n",
       "    </tr>\n",
       "    <tr>\n",
       "      <th>3166</th>\n",
       "      <td>0.172375</td>\n",
       "      <td>0.176435</td>\n",
       "    </tr>\n",
       "    <tr>\n",
       "      <th>3167</th>\n",
       "      <td>0.185607</td>\n",
       "      <td>0.180756</td>\n",
       "    </tr>\n",
       "  </tbody>\n",
       "</table>\n",
       "<p>3168 rows × 2 columns</p>\n",
       "</div>"
      ],
      "text/plain": [
       "       meanfun       IQR\n",
       "0     0.084279  0.075122\n",
       "1     0.107937  0.073252\n",
       "2     0.098706  0.123207\n",
       "3     0.088965  0.111374\n",
       "4     0.106398  0.127325\n",
       "...        ...       ...\n",
       "3163  0.182790  0.151859\n",
       "3164  0.188980  0.162193\n",
       "3165  0.209918  0.190936\n",
       "3166  0.172375  0.176435\n",
       "3167  0.185607  0.180756\n",
       "\n",
       "[3168 rows x 2 columns]"
      ]
     },
     "execution_count": 15,
     "metadata": {},
     "output_type": "execute_result"
    }
   ],
   "source": [
    "import pandas as pd\n",
    "from sklearn import metrics, tree\n",
    "from sklearn.tree import DecisionTreeClassifier\n",
    "from sklearn.model_selection import train_test_split\n",
    "import seaborn as sns\n",
    "import matplotlib.pyplot as plt\n",
    "import warnings\n",
    "warnings.simplefilter(action=\"ignore\", category=FutureWarning)\n",
    "df = pd.read_csv(\"data_files/voice.csv\")\n",
    "x = df[[\"meanfun\", \"IQR\"]]\n",
    "y = df[\"label\"]\n",
    "x"
   ]
  },
  {
   "cell_type": "markdown",
   "id": "43658565-80b5-4d01-b1a2-c9daac79cb74",
   "metadata": {},
   "source": [
    "2 Divide the data with the following portions:\n",
    "   - Training data 70 %\n",
    "   - Test data 30 %"
   ]
  },
  {
   "cell_type": "code",
   "execution_count": 16,
   "id": "60e72bb5",
   "metadata": {},
   "outputs": [
    {
     "data": {
      "text/plain": [
       "array(['male', 'female'], dtype=object)"
      ]
     },
     "execution_count": 16,
     "metadata": {},
     "output_type": "execute_result"
    }
   ],
   "source": [
    "feature_names = x.columns\n",
    "labels = y.unique()\n",
    "labels"
   ]
  },
  {
   "cell_type": "code",
   "execution_count": 17,
   "id": "6167df09",
   "metadata": {},
   "outputs": [],
   "source": [
    "x_train, x_test, y_train, y_test = train_test_split(x, y, test_size = 0.3, random_state = 42)"
   ]
  },
  {
   "cell_type": "markdown",
   "id": "2e629fae-7e4b-4ea5-9cf9-4ae7d3d7bb49",
   "metadata": {},
   "source": [
    "3 Define classifier without the max_depth parameter. Use get_depth() method for the defined classifier. What value for tree depth was chosen automatically?"
   ]
  },
  {
   "cell_type": "code",
   "execution_count": 18,
   "id": "2bf5e881",
   "metadata": {},
   "outputs": [
    {
     "data": {
      "text/plain": [
       "15"
      ]
     },
     "execution_count": 18,
     "metadata": {},
     "output_type": "execute_result"
    }
   ],
   "source": [
    "clf = DecisionTreeClassifier(random_state = 42)\n",
    "clf.fit(x_train, y_train)\n",
    "\n",
    "#What value for tree depth was chosen automatically?\n",
    "#result: 15 was the automatically chosen tree depth\n",
    "clf.get_depth()\n"
   ]
  },
  {
   "cell_type": "markdown",
   "id": "d66444fb-da1f-4c60-b413-451af6ec0391",
   "metadata": {},
   "source": [
    "4 Visualise the tree structure and create the confusion matrix where you can compare true and predicted labels."
   ]
  },
  {
   "cell_type": "code",
   "execution_count": 19,
   "id": "577f9012",
   "metadata": {},
   "outputs": [
    {
     "data": {
      "image/png": "[encoded data removed]",
      "text/plain": [
       "<Figure size 640x480 with 2 Axes>"
      ]
     },
     "metadata": {},
     "output_type": "display_data"
    },
    {
     "data": {
      "text/plain": [
       "<Figure size 1000x700 with 0 Axes>"
      ]
     },
     "metadata": {},
     "output_type": "display_data"
    }
   ],
   "source": [
    "test_pred_decision_tree = clf.predict(x_test)\n",
    "# Confusion matrix definition\n",
    "confusion_matrix = metrics.confusion_matrix(y_test, test_pred_decision_tree)\n",
    "\n",
    "# Input values for the confusion matrix\n",
    "ax = plt.axes()\n",
    "sns.set(font_scale = 1.3)\n",
    "plt.figure(figsize = (10,7))\n",
    "sns.heatmap(confusion_matrix, annot = True, fmt = \"g\", ax = ax, cmap = \"magma\")\n",
    "\n",
    "# Add descriptive title for the figure and names for axles\n",
    "ax.set_title(\"Confusion Matrix - Decision Tree\")\n",
    "ax.set_xlabel(\"Predicted label\", fontsize = 15)\n",
    "ax.set_xticklabels([\"\"] + labels)\n",
    "ax.set_ylabel(\"True Label\", fontsize = 15)\n",
    "ax.set_yticklabels(list(labels), rotation = 0)\n",
    "plt.show()"
   ]
  }
 ],
 "metadata": {
  "kernelspec": {
   "display_name": "Python 3 (ipykernel)",
   "language": "python",
   "name": "python3"
  },
  "language_info": {
   "codemirror_mode": {
    "name": "ipython",
    "version": 3
   },
   "file_extension": ".py",
   "mimetype": "text/x-python",
   "name": "python",
   "nbconvert_exporter": "python",
   "pygments_lexer": "ipython3",
   "version": "3.9.13"
  },
  "vscode": {
   "interpreter": {
    "hash": "05cbb8e30cd2cbe161554e93617827c610928832f77224aad1765f5c87120ccf"
   }
  }
 },
 "nbformat": 4,
 "nbformat_minor": 5
}
